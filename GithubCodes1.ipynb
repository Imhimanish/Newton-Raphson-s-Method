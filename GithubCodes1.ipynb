{
  "nbformat": 4,
  "nbformat_minor": 0,
  "metadata": {
    "colab": {
      "provenance": [],
      "authorship_tag": "ABX9TyP6RmFgALhmxnnsEQlhUWcK",
      "include_colab_link": true
    },
    "kernelspec": {
      "name": "python3",
      "display_name": "Python 3"
    },
    "language_info": {
      "name": "python"
    }
  },
  "cells": [
    {
      "cell_type": "markdown",
      "metadata": {
        "id": "view-in-github",
        "colab_type": "text"
      },
      "source": [
        "<a href=\"https://colab.research.google.com/github/Imhimanish/Newton-Raphson-s-Method/blob/main/GithubCodes1.ipynb\" target=\"_parent\"><img src=\"https://colab.research.google.com/assets/colab-badge.svg\" alt=\"Open In Colab\"/></a>"
      ]
    },
    {
      "cell_type": "markdown",
      "source": [
        "BISECTION METHOD\n"
      ],
      "metadata": {
        "id": "J49Cv6LEYmT8"
      }
    },
    {
      "cell_type": "code",
      "execution_count": null,
      "metadata": {
        "colab": {
          "base_uri": "https://localhost:8080/"
        },
        "id": "XVU1aXZuWOpd",
        "outputId": "80dd35f8-9ae7-4484-9004-37c2ac207826"
      },
      "outputs": [
        {
          "output_type": "stream",
          "name": "stdout",
          "text": [
            "The root is - 2.5\n",
            "The root is - 2.625\n",
            "The root is - 2.6875\n",
            "The root is - 2.71875\n",
            "The root is - 2.7265625\n",
            "The root is - 2.73046875\n",
            "The root is - 2.7314453125\n",
            "The root is - 2.73193359375\n",
            "The root is - 2.73199462890625\n",
            "The root is - 2.732025146484375\n"
          ]
        }
      ],
      "source": [
        "import numpy as np\n",
        "import time as t\n",
        "\n",
        "def f(x):\n",
        " return x**3 - 3*(x**2)+2\n",
        "\n",
        "xi = 2\n",
        "xf = 4\n",
        "xdiff = 1\n",
        "\n",
        "if f(xi)*f(xf)<0: \n",
        " while xdiff > 0.0001:\n",
        "  Xa = (xi + xf)/2\n",
        "  fi = f(xi)\n",
        "  fa = f(Xa)\n",
        "\n",
        "  if f(xf) * f(Xa) == 0:\n",
        "    print(\"Root is-\",Xa )\n",
        "    break\n",
        "\n",
        "  elif f(xi) * f(Xa) < 0:\n",
        "    xf = Xa\n",
        "\n",
        "  else:\n",
        "    xi,fi = Xa,fa\n",
        "    nXa = (xi + xf)/2\n",
        "    xdiff = abs(f(nXa) - f(Xa))\n",
        "    print(\"The root is -\",Xa)\n",
        "\n",
        "else:\n",
        " print(\"Take new limits - \")"
      ]
    },
    {
      "cell_type": "markdown",
      "source": [
        "NEWTON RAPHSON'S METHOD"
      ],
      "metadata": {
        "id": "jhH9ICSVYu0I"
      }
    },
    {
      "cell_type": "code",
      "source": [
        "import numpy as np\n",
        "import matplotlib.pyplot as plt\n",
        "\n",
        "def f(x):\n",
        " y = (x*3) - 3(x**2) +2*x\n",
        " return y\n",
        "\n",
        "def df(x):\n",
        " y = 3*(x*2) - 6(x) +2\n",
        " return y\n",
        "\n",
        "x = 1.5\n",
        "t= .0001\n",
        "h= f(x)/df(x)\n",
        "while abs(f(x)) > t:\n",
        " \n",
        " h= f(x)/df(x)\n",
        " x=x-h\n",
        "print(x)\n",
        "\n",
        "xx=np.linspace(-0.5,2.5,500)\n",
        "yy=f(xx)\n",
        "plt.plot(xx,yy,'-',label='Graph of Function')\n",
        "plt.title(\"The Graph of the function and it's \n",
        "root\")\n",
        "plt.text(x,0.01,f\"The root is at ({x :.1f})\")\n",
        "plt.plot(x,0, 'ro')\n",
        "plt.legend()\n",
        "plt.xlabel('Value of x')\n",
        "plt.ylabel('Value of f(x)')\n",
        "plt.axhline()\n",
        "plt.grid()\n",
        "plt.show()"
      ],
      "metadata": {
        "id": "t4__tTtDYtqO"
      },
      "execution_count": null,
      "outputs": []
    }
  ]
}